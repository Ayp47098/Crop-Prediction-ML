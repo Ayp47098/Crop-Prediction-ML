{
 "cells": [
  {
   "cell_type": "code",
   "execution_count": 1,
   "id": "35a479a1",
   "metadata": {},
   "outputs": [],
   "source": [
    "import pandas as pd\n",
    "import numpy as np\n",
    "from sklearn.model_selection import train_test_split\n",
    "from sklearn.preprocessing import LabelEncoder, StandardScaler\n",
    "from sklearn.ensemble import RandomForestRegressor\n",
    "from sklearn.metrics import r2_score"
   ]
  },
  {
   "cell_type": "code",
   "execution_count": 2,
   "id": "296b22a4",
   "metadata": {},
   "outputs": [],
   "source": [
    "df = pd.read_csv(\"D:/crop_yield.csv/crop_yield.csv\")"
   ]
  },
  {
   "cell_type": "code",
   "execution_count": 3,
   "id": "aab3eec3",
   "metadata": {},
   "outputs": [
    {
     "data": {
      "text/html": [
       "<div>\n",
       "<style scoped>\n",
       "    .dataframe tbody tr th:only-of-type {\n",
       "        vertical-align: middle;\n",
       "    }\n",
       "\n",
       "    .dataframe tbody tr th {\n",
       "        vertical-align: top;\n",
       "    }\n",
       "\n",
       "    .dataframe thead th {\n",
       "        text-align: right;\n",
       "    }\n",
       "</style>\n",
       "<table border=\"1\" class=\"dataframe\">\n",
       "  <thead>\n",
       "    <tr style=\"text-align: right;\">\n",
       "      <th></th>\n",
       "      <th>Region</th>\n",
       "      <th>Soil_Type</th>\n",
       "      <th>Crop</th>\n",
       "      <th>Rainfall_mm</th>\n",
       "      <th>Temperature_Celsius</th>\n",
       "      <th>Fertilizer_Used</th>\n",
       "      <th>Irrigation_Used</th>\n",
       "      <th>Weather_Condition</th>\n",
       "      <th>Days_to_Harvest</th>\n",
       "      <th>Yield_tons_per_hectare</th>\n",
       "    </tr>\n",
       "  </thead>\n",
       "  <tbody>\n",
       "    <tr>\n",
       "      <th>0</th>\n",
       "      <td>West</td>\n",
       "      <td>Sandy</td>\n",
       "      <td>Cotton</td>\n",
       "      <td>897.077239</td>\n",
       "      <td>27.676966</td>\n",
       "      <td>False</td>\n",
       "      <td>True</td>\n",
       "      <td>Cloudy</td>\n",
       "      <td>122</td>\n",
       "      <td>6.555816</td>\n",
       "    </tr>\n",
       "    <tr>\n",
       "      <th>1</th>\n",
       "      <td>South</td>\n",
       "      <td>Clay</td>\n",
       "      <td>Rice</td>\n",
       "      <td>992.673282</td>\n",
       "      <td>18.026142</td>\n",
       "      <td>True</td>\n",
       "      <td>True</td>\n",
       "      <td>Rainy</td>\n",
       "      <td>140</td>\n",
       "      <td>8.527341</td>\n",
       "    </tr>\n",
       "    <tr>\n",
       "      <th>2</th>\n",
       "      <td>North</td>\n",
       "      <td>Loam</td>\n",
       "      <td>Barley</td>\n",
       "      <td>147.998025</td>\n",
       "      <td>29.794042</td>\n",
       "      <td>False</td>\n",
       "      <td>False</td>\n",
       "      <td>Sunny</td>\n",
       "      <td>106</td>\n",
       "      <td>1.127443</td>\n",
       "    </tr>\n",
       "    <tr>\n",
       "      <th>3</th>\n",
       "      <td>North</td>\n",
       "      <td>Sandy</td>\n",
       "      <td>Soybean</td>\n",
       "      <td>986.866331</td>\n",
       "      <td>16.644190</td>\n",
       "      <td>False</td>\n",
       "      <td>True</td>\n",
       "      <td>Rainy</td>\n",
       "      <td>146</td>\n",
       "      <td>6.517573</td>\n",
       "    </tr>\n",
       "    <tr>\n",
       "      <th>4</th>\n",
       "      <td>South</td>\n",
       "      <td>Silt</td>\n",
       "      <td>Wheat</td>\n",
       "      <td>730.379174</td>\n",
       "      <td>31.620687</td>\n",
       "      <td>True</td>\n",
       "      <td>True</td>\n",
       "      <td>Cloudy</td>\n",
       "      <td>110</td>\n",
       "      <td>7.248251</td>\n",
       "    </tr>\n",
       "  </tbody>\n",
       "</table>\n",
       "</div>"
      ],
      "text/plain": [
       "  Region Soil_Type     Crop  Rainfall_mm  Temperature_Celsius  \\\n",
       "0   West     Sandy   Cotton   897.077239            27.676966   \n",
       "1  South      Clay     Rice   992.673282            18.026142   \n",
       "2  North      Loam   Barley   147.998025            29.794042   \n",
       "3  North     Sandy  Soybean   986.866331            16.644190   \n",
       "4  South      Silt    Wheat   730.379174            31.620687   \n",
       "\n",
       "   Fertilizer_Used  Irrigation_Used Weather_Condition  Days_to_Harvest  \\\n",
       "0            False             True            Cloudy              122   \n",
       "1             True             True             Rainy              140   \n",
       "2            False            False             Sunny              106   \n",
       "3            False             True             Rainy              146   \n",
       "4             True             True            Cloudy              110   \n",
       "\n",
       "   Yield_tons_per_hectare  \n",
       "0                6.555816  \n",
       "1                8.527341  \n",
       "2                1.127443  \n",
       "3                6.517573  \n",
       "4                7.248251  "
      ]
     },
     "execution_count": 3,
     "metadata": {},
     "output_type": "execute_result"
    }
   ],
   "source": [
    "# Display the first few rows\n",
    "df.head()"
   ]
  },
  {
   "cell_type": "code",
   "execution_count": 4,
   "id": "bbb2ebd8",
   "metadata": {},
   "outputs": [
    {
     "name": "stdout",
     "output_type": "stream",
     "text": [
      "       Region Soil_Type     Crop  Rainfall_mm  Temperature_Celsius  \\\n",
      "0        West     Sandy   Cotton       897.08                27.68   \n",
      "1       South      Clay     Rice       992.67                18.03   \n",
      "2       North      Loam   Barley       148.00                29.79   \n",
      "3       North     Sandy  Soybean       986.87                16.64   \n",
      "4       South      Silt    Wheat       730.38                31.62   \n",
      "...       ...       ...      ...          ...                  ...   \n",
      "999995   West      Silt     Rice       302.81                27.99   \n",
      "999996  South    Chalky   Barley       932.99                39.66   \n",
      "999997  North     Peaty   Cotton       867.36                24.37   \n",
      "999998   West      Silt    Wheat       492.81                33.05   \n",
      "999999   West     Sandy    Maize       180.94                27.30   \n",
      "\n",
      "        Fertilizer_Used  Irrigation_Used Weather_Condition  Days_to_Harvest  \\\n",
      "0                     0                1            Cloudy              122   \n",
      "1                     1                1             Rainy              140   \n",
      "2                     0                0             Sunny              106   \n",
      "3                     0                1             Rainy              146   \n",
      "4                     1                1            Cloudy              110   \n",
      "...                 ...              ...               ...              ...   \n",
      "999995                0                0             Sunny               76   \n",
      "999996                1                0             Rainy               93   \n",
      "999997                1                0            Cloudy              108   \n",
      "999998                0                0             Sunny              102   \n",
      "999999                1                0             Sunny               76   \n",
      "\n",
      "        Yield_tons_per_hectare  \n",
      "0                     6.555816  \n",
      "1                     8.527341  \n",
      "2                     1.127443  \n",
      "3                     6.517573  \n",
      "4                     7.248251  \n",
      "...                        ...  \n",
      "999995                1.347586  \n",
      "999996                7.311594  \n",
      "999997                5.763182  \n",
      "999998                2.070159  \n",
      "999999                2.937243  \n",
      "\n",
      "[1000000 rows x 10 columns]\n"
     ]
    }
   ],
   "source": [
    "\n",
    "\n",
    "\n",
    "\n",
    "\n",
    "# Rounding off to two decimal places\n",
    "df[\"Rainfall_mm\"] = df[\"Rainfall_mm\"].round(2)\n",
    "df[\"Temperature_Celsius\"] = df[\"Temperature_Celsius\"].round(2)\n",
    "\n",
    "# Converting boolean columns to 0 and 1\n",
    "df[\"Fertilizer_Used\"] = df[\"Fertilizer_Used\"].astype(int)\n",
    "df[\"Irrigation_Used\"] = df[\"Irrigation_Used\"].astype(int)\n",
    "\n",
    "print(df)\n"
   ]
  },
  {
   "cell_type": "code",
   "execution_count": 5,
   "id": "0f3910d5",
   "metadata": {},
   "outputs": [],
   "source": [
    "\n",
    "    # Encode categorical variables\n",
    "label_encoders = {}\n",
    "categorical_cols = [\"Region\", \"Soil_Type\", \"Crop\", \"Weather_Condition\"]\n",
    "for col in categorical_cols:\n",
    "    le = LabelEncoder()\n",
    "    df[col] = le.fit_transform(df[col])\n",
    "    label_encoders[col] = le"
   ]
  },
  {
   "cell_type": "code",
   "execution_count": 6,
   "id": "ed4e6b37",
   "metadata": {},
   "outputs": [],
   "source": [
    "# Define features and target\n",
    "X = df.drop(columns=[\"Yield_tons_per_hectare\"])\n",
    "y = df[\"Yield_tons_per_hectare\"]\n"
   ]
  },
  {
   "cell_type": "code",
   "execution_count": 7,
   "id": "dd341409",
   "metadata": {},
   "outputs": [],
   "source": [
    "# Standardize numerical features\n",
    "scaler = StandardScaler()\n",
    "X_scaled = scaler.fit_transform(X)"
   ]
  },
  {
   "cell_type": "code",
   "execution_count": 8,
   "id": "0943548c",
   "metadata": {},
   "outputs": [],
   "source": [
    "# Split into training and testing sets\n",
    "X_train, X_test, y_train, y_test = train_test_split(X_scaled, y, test_size=0.2, random_state=42)"
   ]
  },
  {
   "cell_type": "code",
   "execution_count": 9,
   "id": "69657c3c",
   "metadata": {},
   "outputs": [],
   "source": [
    "# Train Random Forest model\n",
    "rf_model = RandomForestRegressor(n_estimators=100, random_state=42)\n",
    "rf_model.fit(X_train, y_train)\n",
    "rf_preds = rf_model.predict(X_test)\n"
   ]
  },
  {
   "cell_type": "code",
   "execution_count": 10,
   "id": "2ab03a56",
   "metadata": {},
   "outputs": [
    {
     "name": "stdout",
     "output_type": "stream",
     "text": [
      "Prediction accuracy: 90.85385156834649\n"
     ]
    }
   ],
   "source": [
    "# Evaluate model\n",
    "rf_r2 = r2_score(y_test, rf_preds)\n",
    "print(\"Prediction accuracy:\", rf_r2*100)\n"
   ]
  },
  {
   "cell_type": "code",
   "execution_count": 12,
   "id": "083eec04",
   "metadata": {},
   "outputs": [
    {
     "name": "stdout",
     "output_type": "stream",
     "text": [
      "Enter values (comma-separated): West, Sandy, Cotton, 897.08, 27.68, 0, 1, Cloudy, 122\n",
      "Warning: '897.08' not found in training classes for Rainfall_mm. Defaulting to 0.\n",
      "Warning: '27.68' not found in training classes for Temperature_Celsius. Defaulting to 0.\n",
      "Warning: '0' not found in training classes for Fertilizer_Used. Defaulting to 0.\n",
      "Warning: '1' not found in training classes for Irrigation_Used. Defaulting to 0.\n",
      "Warning: '122' not found in training classes for Days_to_Harvest. Defaulting to 0.\n"
     ]
    },
    {
     "name": "stderr",
     "output_type": "stream",
     "text": [
      "C:\\Users\\Ayush\\AppData\\Local\\Temp/ipykernel_16112/3115448388.py:21: FutureWarning: elementwise comparison failed; returning scalar instead, but in the future will perform elementwise comparison\n",
      "  if value in label_encoders[col].classes_:\n",
      "C:\\Users\\Ayush\\AppData\\Local\\Temp/ipykernel_16112/3115448388.py:21: FutureWarning: elementwise comparison failed; returning scalar instead, but in the future will perform elementwise comparison\n",
      "  if value in label_encoders[col].classes_:\n"
     ]
    },
    {
     "ename": "IndexError",
     "evalue": "list index out of range",
     "output_type": "error",
     "traceback": [
      "\u001b[1;31m---------------------------------------------------------------------------\u001b[0m",
      "\u001b[1;31mIndexError\u001b[0m                                Traceback (most recent call last)",
      "\u001b[1;32m~\\AppData\\Local\\Temp/ipykernel_16112/3115448388.py\u001b[0m in \u001b[0;36m<module>\u001b[1;34m\u001b[0m\n\u001b[0;32m     18\u001b[0m \u001b[1;31m# Convert categorical features\u001b[0m\u001b[1;33m\u001b[0m\u001b[1;33m\u001b[0m\u001b[0m\n\u001b[0;32m     19\u001b[0m \u001b[1;32mfor\u001b[0m \u001b[0mi\u001b[0m\u001b[1;33m,\u001b[0m \u001b[0mcol\u001b[0m \u001b[1;32min\u001b[0m \u001b[0menumerate\u001b[0m\u001b[1;33m(\u001b[0m\u001b[0mcategorical_cols\u001b[0m\u001b[1;33m)\u001b[0m\u001b[1;33m:\u001b[0m\u001b[1;33m\u001b[0m\u001b[1;33m\u001b[0m\u001b[0m\n\u001b[1;32m---> 20\u001b[1;33m     \u001b[0mvalue\u001b[0m \u001b[1;33m=\u001b[0m \u001b[0muser_values\u001b[0m\u001b[1;33m[\u001b[0m\u001b[0mi\u001b[0m\u001b[1;33m]\u001b[0m\u001b[1;33m\u001b[0m\u001b[1;33m\u001b[0m\u001b[0m\n\u001b[0m\u001b[0;32m     21\u001b[0m     \u001b[1;32mif\u001b[0m \u001b[0mvalue\u001b[0m \u001b[1;32min\u001b[0m \u001b[0mlabel_encoders\u001b[0m\u001b[1;33m[\u001b[0m\u001b[0mcol\u001b[0m\u001b[1;33m]\u001b[0m\u001b[1;33m.\u001b[0m\u001b[0mclasses_\u001b[0m\u001b[1;33m:\u001b[0m\u001b[1;33m\u001b[0m\u001b[1;33m\u001b[0m\u001b[0m\n\u001b[0;32m     22\u001b[0m         \u001b[0muser_input\u001b[0m\u001b[1;33m[\u001b[0m\u001b[0mcol\u001b[0m\u001b[1;33m]\u001b[0m \u001b[1;33m=\u001b[0m \u001b[0mlabel_encoders\u001b[0m\u001b[1;33m[\u001b[0m\u001b[0mcol\u001b[0m\u001b[1;33m]\u001b[0m\u001b[1;33m.\u001b[0m\u001b[0mtransform\u001b[0m\u001b[1;33m(\u001b[0m\u001b[1;33m[\u001b[0m\u001b[0mvalue\u001b[0m\u001b[1;33m]\u001b[0m\u001b[1;33m)\u001b[0m\u001b[1;33m[\u001b[0m\u001b[1;36m0\u001b[0m\u001b[1;33m]\u001b[0m\u001b[1;33m\u001b[0m\u001b[1;33m\u001b[0m\u001b[0m\n",
      "\u001b[1;31mIndexError\u001b[0m: list index out of range"
     ]
    }
   ],
   "source": [
    "# Get user input\n",
    "user_input_str = input(\"Enter values (comma-separated): \")\n",
    "user_values = user_input_str.split(\",\")\n",
    "\n",
    "# Ensure correct number of inputs\n",
    "expected_columns = [\"Region\", \"Soil_Type\", \"Crop\", \"Rainfall_mm\", \"Temperature_Celsius\", \"Fertilizer_Used\", \"Irrigation_Used\", \"Weather_Condition\", \"Days_to_Harvest\"]\n",
    "if len(user_values) != len(expected_columns):\n",
    "    raise ValueError(f\"Expected {len(expected_columns)} values, but got {len(user_values)}. Check input format.\")\n",
    "\n",
    "user_values = [val.strip() for val in user_values]  # Remove spaces\n",
    "\n",
    "# Convert categorical inputs\n",
    "user_input = {}\n",
    "for i, col in enumerate(categorical_cols):\n",
    "    value = user_values[i]\n",
    "    if value in label_encoders[col].classes_:\n",
    "        user_input[col] = label_encoders[col].transform([value])[0]\n",
    "    else:\n",
    "        print(f\"Warning: '{value}' not found in training classes for {col}. Defaulting to 0.\")\n",
    "        user_input[col] = 0\n",
    "\n",
    "# Convert numerical inputs\n",
    "try:\n",
    "    user_input[\"Rainfall_mm\"] = round(float(user_values[3]), 2)\n",
    "    user_input[\"Temperature_Celsius\"] = round(float(user_values[4]), 2)\n",
    "    user_input[\"Fertilizer_Used\"] = int(user_values[5])\n",
    "    user_input[\"Irrigation_Used\"] = int(user_values[6])\n",
    "    user_input[\"Weather_Condition\"] = label_encoders[\"Weather_Condition\"].transform([user_values[7]])[0] if user_values[7] in label_encoders[\"Weather_Condition\"].classes_ else 0\n",
    "    user_input[\"Days_to_Harvest\"] = int(user_values[8])\n",
    "except ValueError as e:\n",
    "    raise ValueError(f\"Error converting numeric values: {e}\")\n",
    "\n",
    "print(\"Processed User Input:\", user_input)"
   ]
  },
  {
   "cell_type": "code",
   "execution_count": null,
   "id": "52bc5c31",
   "metadata": {},
   "outputs": [],
   "source": [
    "# Convert to DataFrame and standardize\n",
    "user_df = pd.DataFrame([user_input])\n",
    "user_scaled = scaler.transform(user_df)"
   ]
  },
  {
   "cell_type": "code",
   "execution_count": null,
   "id": "ae352cde",
   "metadata": {},
   "outputs": [],
   "source": [
    "# Predict Production\n",
    "predicted_production = rf_model.predict(user_scaled)[0]\n",
    "print(f\"Predicted Production: {predicted_production}\")"
   ]
  }
 ],
 "metadata": {
  "kernelspec": {
   "display_name": "Python 3 (ipykernel)",
   "language": "python",
   "name": "python3"
  },
  "language_info": {
   "codemirror_mode": {
    "name": "ipython",
    "version": 3
   },
   "file_extension": ".py",
   "mimetype": "text/x-python",
   "name": "python",
   "nbconvert_exporter": "python",
   "pygments_lexer": "ipython3",
   "version": "3.9.7"
  }
 },
 "nbformat": 4,
 "nbformat_minor": 5
}
